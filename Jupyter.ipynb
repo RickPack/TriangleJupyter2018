{
 "cells": [
  {
   "cell_type": "code",
   "execution_count": 1,
   "metadata": {},
   "outputs": [
    {
     "ename": "ERROR",
     "evalue": "Error in parse(text = x, srcfile = src): <text>:1:1: unexpected input\n1: %load_ext rpy2.ipython\n    ^\n",
     "output_type": "error",
     "traceback": [
      "Error in parse(text = x, srcfile = src): <text>:1:1: unexpected input\n1: %load_ext rpy2.ipython\n    ^\nTraceback:\n"
     ]
    }
   ],
   "source": [
    "%load_ext rpy2.ipython\n",
    "track_file <- \"C:/Users/Packr1/Documents/Personal/Track/track_res.csv\"\n",
    "track_frm  <- read_csv(track_file)"
   ]
  },
  {
   "cell_type": "code",
   "execution_count": 2,
   "metadata": {},
   "outputs": [
    {
     "ename": "ERROR",
     "evalue": "Error in parse(text = x, srcfile = src): <text>:1:1: unexpected input\n1: %lsmagic\n    ^\n",
     "output_type": "error",
     "traceback": [
      "Error in parse(text = x, srcfile = src): <text>:1:1: unexpected input\n1: %lsmagic\n    ^\nTraceback:\n"
     ]
    }
   ],
   "source": [
    "%lsmagic"
   ]
  },
  {
   "cell_type": "code",
   "execution_count": 4,
   "metadata": {},
   "outputs": [
    {
     "name": "stderr",
     "output_type": "stream",
     "text": [
      "Parsed with column specification:\n",
      "cols(\n",
      "  Name = col_character(),\n",
      "  Sex = col_character(),\n",
      "  Age = col_integer(),\n",
      "  Time = col_character(),\n",
      "  ct_evt = col_integer(),\n",
      "  Event = col_character(),\n",
      "  mins = col_integer(),\n",
      "  secs = col_character(),\n",
      "  track_time = col_double(),\n",
      "  temp_dist = col_character(),\n",
      "  dist_m = col_integer(),\n",
      "  Place = col_integer(),\n",
      "  Max_Hamlyn_pts = col_integer(),\n",
      "  Date_Meet = col_date(format = \"\"),\n",
      "  agegrp = col_character()\n",
      ")\n"
     ]
    }
   ],
   "source": [
    "# World Masters Athletics (WMA) Age-graded track tables can be found on\n",
    "# Howard Grubb's website:\n",
    "# http://www.howardgrubb.co.uk/athletics/data/wavacalc06.xls\n",
    "\n",
    "library(rvest)\n",
    "library(dplyr)\n",
    "library(tidyr)\n",
    "library(readxl)\n",
    "library(lubridate)\n",
    "library(patchwork)\n",
    "\n",
    "setwd('C:/Users/Packr1/Documents/Personal/Track')\n",
    "WMA_Women <- read_xls('wavacalc06.xls', sheet = 1) %>%\n",
    "              select(2:ncol(.)) %>%\n",
    "              mutate(`dist(km)_2` = case_when(\n",
    "                      grepl('K RUN', toupper(Event)) ~ as.numeric(str_extract(Event, \"[\\\\d]*\")),\n",
    "                      TRUE ~ `dist(km)`),\n",
    "                     dist_m = case_when(\n",
    "                      grepl(\"WALK\",  toupper(Event)) ~ ((1000 * `dist(km)_2`) + 0.11),\n",
    "                      TRUE ~ 1000 * `dist(km)_2`)) %>%\n",
    "              mutate(Sex = 'F') %>%\n",
    "              # dist_m is 0 for field events \n",
    "              # Unknown functional difference between Road distinctions\n",
    "              #   (e.g., 5kmRoad vs. 5km)\n",
    "              dplyr::filter(dist_m > 0 & \n",
    "                            !grepl('Road', Event))\n",
    "              print(nrow(WMA_Women) - nrow(WMA_Women %>% distinct(dist_m)))\n",
    "              message(\"Expecting 0 so no duplicate distance\")\n",
    "WMA_Men   <- read_xls('wavacalc06.xls', sheet = 2) %>%\n",
    "              select(2:ncol(.)) %>%\n",
    "              mutate(dist_m = case_when(\n",
    "                grepl(\"WALK\",  toupper(Event)) ~ ((1000 * `dist(km)`) + 0.11),\n",
    "                TRUE ~ 1000 * `dist(km)`)) %>%\n",
    "              mutate(Sex = 'M') %>%\n",
    "              # dist_m is 0 for field events \n",
    "              # Unknown functional difference between Road distinctions\n",
    "              #   (e.g., 5kmRoad vs. 5km)\n",
    "              dplyr::filter(dist_m > 0 & \n",
    "                            !grepl('Road', Event))\n",
    "              print(nrow(WMA_Men) - nrow(WMA_Men %>% distinct(dist_m)))\n",
    "              message(\"Expecting 0 so no duplicate distance\")\n",
    "track_file <- \"C:/Users/Packr1/Documents/Personal/Track/track_res.csv\"\n",
    "track_res  <- read_csv(track_file) %>%\n",
    "            # Adding a bit of distance for Walks, to differentiate\n",
    "            # in join with the age-graded tables\n",
    "            mutate(dist_m = case_when(\n",
    "                grepl(\"WALK\", toupper(Event)) ~ as.integer(dist_m + 0.11),\n",
    "                TRUE ~ dist_m))"
   ]
  },
  {
   "cell_type": "code",
   "execution_count": null,
   "metadata": {},
   "outputs": [],
   "source": []
  }
 ],
 "metadata": {
  "kernelspec": {
   "display_name": "R",
   "language": "R",
   "name": "ir"
  },
  "language_info": {
   "codemirror_mode": "r",
   "file_extension": ".r",
   "mimetype": "text/x-r-source",
   "name": "R",
   "pygments_lexer": "r",
   "version": "3.5.1"
  }
 },
 "nbformat": 4,
 "nbformat_minor": 2
}
