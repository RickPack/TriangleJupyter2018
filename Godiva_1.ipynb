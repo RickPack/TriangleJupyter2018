{
 "cells": [
  {
   "cell_type": "code",
   "execution_count": 56,
   "metadata": {},
   "outputs": [
    {
     "name": "stdout",
     "output_type": "stream",
     "text": [
      "[1] 0\n"
     ]
    },
    {
     "name": "stderr",
     "output_type": "stream",
     "text": [
      "Expecting 0 so no duplicate distance\n"
     ]
    },
    {
     "name": "stdout",
     "output_type": "stream",
     "text": [
      "[1] 0\n"
     ]
    },
    {
     "name": "stderr",
     "output_type": "stream",
     "text": [
      "Expecting 0 so no duplicate distance\n",
      "Parsed with column specification:\n",
      "cols(\n",
      "  Name = col_character(),\n",
      "  Sex = col_character(),\n",
      "  Age = col_integer(),\n",
      "  Time = col_character(),\n",
      "  ct_evt = col_integer(),\n",
      "  Event = col_character(),\n",
      "  mins = col_integer(),\n",
      "  secs = col_character(),\n",
      "  track_time = col_double(),\n",
      "  temp_dist = col_character(),\n",
      "  dist_m = col_integer(),\n",
      "  Place = col_integer(),\n",
      "  Max_Hamlyn_pts = col_integer(),\n",
      "  Date_Meet = col_date(format = \"\"),\n",
      "  agegrp = col_character()\n",
      ")\n"
     ]
    }
   ],
   "source": [
    "# World Masters Athletics (WMA) Age-graded track tables can be found on\n",
    "# Howard Grubb's website:\n",
    "# http://www.howardgrubb.co.uk/athletics/data/wavacalc06.xls\n",
    "\n",
    "library(rvest)\n",
    "library(readr)\n",
    "library(stringr)\n",
    "library(dplyr)\n",
    "library(tidyr)\n",
    "library(readxl)\n",
    "library(lubridate)\n",
    "library(patchwork)\n",
    "library(ggplot2)\n",
    "\n",
    "setwd('C:/Users/Packr1/Documents/Personal/Track')\n",
    "WMA_Women <- read_xls('wavacalc06.xls', sheet = 1) %>%\n",
    "    select(2:ncol(.)) %>%\n",
    "    mutate(dist_m = 1000 * `dist(km)`) %>%\n",
    "    mutate(Sex = 'F') %>%\n",
    "              dplyr::filter(dist_m > 0 & \n",
    "                            !grepl('Road', Event))\n",
    "              print(nrow(WMA_Women) - nrow(WMA_Women %>% distinct(dist_m)))\n",
    "              message(\"Expecting 0 so no duplicate distance\")\n",
    "WMA_Men   <- read_xls('wavacalc06.xls', sheet = 2) %>%\n",
    "              select(2:ncol(.)) %>%\n",
    "              mutate(dist_m = 1000 * `dist(km)`) %>%\n",
    "              mutate(Sex = 'M') %>%\n",
    "              dplyr::filter(dist_m > 0 & \n",
    "                            !grepl('Road', Event))\n",
    "              print(nrow(WMA_Men) - nrow(WMA_Men %>% distinct(dist_m)))\n",
    "              message(\"Expecting 0 so no duplicate distance\")\n",
    "\n",
    "track_file <- \"C:/Users/Packr1/Documents/Personal/Track/track_res.csv\"\n",
    "track_res  <- read_csv(track_file)\n",
    "pics_dir   <- 'C:/Users/Packr1/Documents/Personal/Track/Godiva/Jupyter_Pics/'"
   ]
  },
  {
   "cell_type": "code",
   "execution_count": 57,
   "metadata": {},
   "outputs": [
    {
     "data": {
      "text/html": [
       "<table>\n",
       "<thead><tr><th scope=col>Name</th><th scope=col>Sex</th><th scope=col>Event</th><th scope=col>Date_Meet</th><th scope=col>ct</th></tr></thead>\n",
       "<tbody>\n",
       "\t<tr><td>Aimee Bazin      </td><td>F                </td><td>100m Dash        </td><td>2014-07-23       </td><td>2                </td></tr>\n",
       "\t<tr><td>Aimee Bazin      </td><td>F                </td><td>200m             </td><td>2013-07-10       </td><td>2                </td></tr>\n",
       "\t<tr><td>Alex Andre       </td><td>M                </td><td>200m             </td><td>2013-07-10       </td><td>2                </td></tr>\n",
       "\t<tr><td>Alex Emmons      </td><td>M                </td><td>Mile Run         </td><td>2016-07-13       </td><td>2                </td></tr>\n",
       "\t<tr><td>Alex Taylor      </td><td>M                </td><td>200m             </td><td>2009-07-15       </td><td>2                </td></tr>\n",
       "\t<tr><td>Aline Lloyd      </td><td>F                </td><td>200m             </td><td>2013-07-10       </td><td>2                </td></tr>\n",
       "\t<tr><td>Barbara Hindenach</td><td>F                </td><td>100m Dash        </td><td>2014-07-23       </td><td>2                </td></tr>\n",
       "\t<tr><td>Barbara Hindenach</td><td>F                </td><td>200m             </td><td>2009-07-15       </td><td>2                </td></tr>\n",
       "\t<tr><td>Barbara Hindenach</td><td>F                </td><td>200m             </td><td>2013-07-10       </td><td>2                </td></tr>\n",
       "\t<tr><td>Barbara Hindenach</td><td>F                </td><td>800 Meter Run    </td><td>2016-06-29       </td><td>2                </td></tr>\n",
       "\t<tr><td>Barbara Hindenach</td><td>F                </td><td>800m             </td><td>2013-05-29       </td><td>2                </td></tr>\n",
       "\t<tr><td>Ben Barker       </td><td>M                </td><td>100m Dash        </td><td>2014-07-23       </td><td>2                </td></tr>\n",
       "\t<tr><td>Bill Hansley     </td><td>M                </td><td>200m             </td><td>2009-07-15       </td><td>2                </td></tr>\n",
       "\t<tr><td>Brendan Murray   </td><td>M                </td><td>5K Run           </td><td>2018-05-30       </td><td>2                </td></tr>\n",
       "\t<tr><td>Brian Tajlili    </td><td>M                </td><td>800 Meter Run    </td><td>2016-06-29       </td><td>2                </td></tr>\n",
       "\t<tr><td>Brianna Honea    </td><td>F                </td><td>100m Dash        </td><td>2014-07-23       </td><td>2                </td></tr>\n",
       "\t<tr><td>Carolyn Huettel  </td><td>F                </td><td>800m             </td><td>2013-05-29       </td><td>2                </td></tr>\n",
       "\t<tr><td>Chris Gould      </td><td>M                </td><td>200m             </td><td>2009-07-15       </td><td>2                </td></tr>\n",
       "\t<tr><td>Chris Gould      </td><td>M                </td><td>800 Meter Run    </td><td>2016-06-29       </td><td>2                </td></tr>\n",
       "\t<tr><td>Chris Gould      </td><td>M                </td><td>800m             </td><td>2013-05-29       </td><td>2                </td></tr>\n",
       "\t<tr><td>Dan Woodlief     </td><td>M                </td><td>800m             </td><td>2013-05-29       </td><td>2                </td></tr>\n",
       "\t<tr><td>Ed Davis         </td><td>M                </td><td>800 Meter Run    </td><td>2016-06-29       </td><td>2                </td></tr>\n",
       "\t<tr><td>Ed Davis         </td><td>M                </td><td>800m             </td><td>2013-05-29       </td><td>2                </td></tr>\n",
       "\t<tr><td>Edwin Harris     </td><td>M                </td><td>800 Meter Run    </td><td>2016-06-29       </td><td>2                </td></tr>\n",
       "\t<tr><td>Fabrienne Swepson</td><td>F                </td><td>200m             </td><td>2009-07-15       </td><td>2                </td></tr>\n",
       "\t<tr><td>Gordon Keeler    </td><td>M                </td><td>800 Meter Run    </td><td>2016-06-29       </td><td>2                </td></tr>\n",
       "\t<tr><td>Harold Hill      </td><td>M                </td><td>200m             </td><td>2009-07-15       </td><td>2                </td></tr>\n",
       "\t<tr><td>Jacob Andre      </td><td>M                </td><td>200m             </td><td>2013-07-10       </td><td>2                </td></tr>\n",
       "\t<tr><td>Jacob Sternfeld  </td><td>M                </td><td>800m             </td><td>2013-05-29       </td><td>2                </td></tr>\n",
       "\t<tr><td>Jason Figge      </td><td>M                </td><td>100m Dash        </td><td>2014-07-23       </td><td>2                </td></tr>\n",
       "\t<tr><td>...</td><td>...</td><td>...</td><td>...</td><td>...</td></tr>\n",
       "\t<tr><td>Martin Warters    </td><td>M                 </td><td>100m Dash         </td><td>2014-07-23        </td><td>2                 </td></tr>\n",
       "\t<tr><td>Mary Szymkowski   </td><td>F                 </td><td>200m              </td><td>2013-07-10        </td><td>2                 </td></tr>\n",
       "\t<tr><td>Matthew Swepson   </td><td>M                 </td><td>200m              </td><td>2009-07-15        </td><td>2                 </td></tr>\n",
       "\t<tr><td>Michelle Hickerson</td><td>F                 </td><td>100m Dash         </td><td>2014-07-23        </td><td>2                 </td></tr>\n",
       "\t<tr><td>Mike Nobles       </td><td>M                 </td><td>800 Meter Run     </td><td>2016-06-29        </td><td>2                 </td></tr>\n",
       "\t<tr><td>Nan Lujan         </td><td>F                 </td><td>100m Dash         </td><td>2014-07-23        </td><td>2                 </td></tr>\n",
       "\t<tr><td>Owen Astrachan    </td><td>M                 </td><td>800m              </td><td>2013-05-29        </td><td>2                 </td></tr>\n",
       "\t<tr><td>Ray Dooley        </td><td>M                 </td><td>100m Dash         </td><td>2014-07-23        </td><td>2                 </td></tr>\n",
       "\t<tr><td>Ray Dooley        </td><td>M                 </td><td>200m              </td><td>2009-07-15        </td><td>2                 </td></tr>\n",
       "\t<tr><td>Ray Dooley        </td><td>M                 </td><td>800 Meter Run     </td><td>2016-06-29        </td><td>2                 </td></tr>\n",
       "\t<tr><td>Ray Dooley        </td><td>M                 </td><td>800m              </td><td>2013-05-29        </td><td>2                 </td></tr>\n",
       "\t<tr><td>Richard Kohrman   </td><td>M                 </td><td>800m              </td><td>2013-05-29        </td><td>2                 </td></tr>\n",
       "\t<tr><td>Rob McCauley      </td><td>M                 </td><td>800m              </td><td>2013-05-29        </td><td>2                 </td></tr>\n",
       "\t<tr><td>Roxanne Springer  </td><td>F                 </td><td>100m Dash         </td><td>2014-07-23        </td><td>2                 </td></tr>\n",
       "\t<tr><td>Roxanne Springer  </td><td>F                 </td><td>800m              </td><td>2013-05-29        </td><td>2                 </td></tr>\n",
       "\t<tr><td>Sarah Roberts     </td><td>F                 </td><td>800m              </td><td>2013-05-29        </td><td>2                 </td></tr>\n",
       "\t<tr><td>Stanton Sarvis    </td><td>M                 </td><td>200m              </td><td>2013-07-10        </td><td>2                 </td></tr>\n",
       "\t<tr><td>Sydney Barker     </td><td>F                 </td><td>100m Dash         </td><td>2014-07-23        </td><td>2                 </td></tr>\n",
       "\t<tr><td>Sydney Barker     </td><td>F                 </td><td>200m              </td><td>2013-07-10        </td><td>2                 </td></tr>\n",
       "\t<tr><td>Tim O'Brien       </td><td>M                 </td><td>800 Meter Run     </td><td>2016-06-29        </td><td>2                 </td></tr>\n",
       "\t<tr><td>Tom Hoerger       </td><td>M                 </td><td>100m Dash         </td><td>2014-07-23        </td><td>2                 </td></tr>\n",
       "\t<tr><td>Tom Kirby         </td><td>M                 </td><td>200m              </td><td>2013-07-10        </td><td>2                 </td></tr>\n",
       "\t<tr><td>Tom Kirby         </td><td>M                 </td><td>800 Meter Run     </td><td>2016-06-29        </td><td>2                 </td></tr>\n",
       "\t<tr><td>Tom Kirby         </td><td>M                 </td><td>800m              </td><td>2013-05-29        </td><td>2                 </td></tr>\n",
       "\t<tr><td>Tyle Stelzig      </td><td>M                 </td><td>800m              </td><td>2013-05-29        </td><td>2                 </td></tr>\n",
       "\t<tr><td>Victoria Swepson  </td><td>F                 </td><td>200m              </td><td>2009-07-15        </td><td>2                 </td></tr>\n",
       "\t<tr><td>W. Patrick Gale   </td><td>M                 </td><td>800 Meter Run     </td><td>2016-06-29        </td><td>2                 </td></tr>\n",
       "\t<tr><td>William Schmitz   </td><td>M                 </td><td>100m Dash         </td><td>2014-07-23        </td><td>2                 </td></tr>\n",
       "\t<tr><td>William Schmitz   </td><td>M                 </td><td>800 Meter Run     </td><td>2016-06-29        </td><td>2                 </td></tr>\n",
       "\t<tr><td>William Schmitz   </td><td>M                 </td><td>800m              </td><td>2013-05-29        </td><td>2                 </td></tr>\n",
       "</tbody>\n",
       "</table>\n"
      ],
      "text/latex": [
       "\\begin{tabular}{r|lllll}\n",
       " Name & Sex & Event & Date\\_Meet & ct\\\\\n",
       "\\hline\n",
       "\t Aimee Bazin       & F                 & 100m Dash         & 2014-07-23        & 2                \\\\\n",
       "\t Aimee Bazin       & F                 & 200m              & 2013-07-10        & 2                \\\\\n",
       "\t Alex Andre        & M                 & 200m              & 2013-07-10        & 2                \\\\\n",
       "\t Alex Emmons       & M                 & Mile Run          & 2016-07-13        & 2                \\\\\n",
       "\t Alex Taylor       & M                 & 200m              & 2009-07-15        & 2                \\\\\n",
       "\t Aline Lloyd       & F                 & 200m              & 2013-07-10        & 2                \\\\\n",
       "\t Barbara Hindenach & F                 & 100m Dash         & 2014-07-23        & 2                \\\\\n",
       "\t Barbara Hindenach & F                 & 200m              & 2009-07-15        & 2                \\\\\n",
       "\t Barbara Hindenach & F                 & 200m              & 2013-07-10        & 2                \\\\\n",
       "\t Barbara Hindenach & F                 & 800 Meter Run     & 2016-06-29        & 2                \\\\\n",
       "\t Barbara Hindenach & F                 & 800m              & 2013-05-29        & 2                \\\\\n",
       "\t Ben Barker        & M                 & 100m Dash         & 2014-07-23        & 2                \\\\\n",
       "\t Bill Hansley      & M                 & 200m              & 2009-07-15        & 2                \\\\\n",
       "\t Brendan Murray    & M                 & 5K Run            & 2018-05-30        & 2                \\\\\n",
       "\t Brian Tajlili     & M                 & 800 Meter Run     & 2016-06-29        & 2                \\\\\n",
       "\t Brianna Honea     & F                 & 100m Dash         & 2014-07-23        & 2                \\\\\n",
       "\t Carolyn Huettel   & F                 & 800m              & 2013-05-29        & 2                \\\\\n",
       "\t Chris Gould       & M                 & 200m              & 2009-07-15        & 2                \\\\\n",
       "\t Chris Gould       & M                 & 800 Meter Run     & 2016-06-29        & 2                \\\\\n",
       "\t Chris Gould       & M                 & 800m              & 2013-05-29        & 2                \\\\\n",
       "\t Dan Woodlief      & M                 & 800m              & 2013-05-29        & 2                \\\\\n",
       "\t Ed Davis          & M                 & 800 Meter Run     & 2016-06-29        & 2                \\\\\n",
       "\t Ed Davis          & M                 & 800m              & 2013-05-29        & 2                \\\\\n",
       "\t Edwin Harris      & M                 & 800 Meter Run     & 2016-06-29        & 2                \\\\\n",
       "\t Fabrienne Swepson & F                 & 200m              & 2009-07-15        & 2                \\\\\n",
       "\t Gordon Keeler     & M                 & 800 Meter Run     & 2016-06-29        & 2                \\\\\n",
       "\t Harold Hill       & M                 & 200m              & 2009-07-15        & 2                \\\\\n",
       "\t Jacob Andre       & M                 & 200m              & 2013-07-10        & 2                \\\\\n",
       "\t Jacob Sternfeld   & M                 & 800m              & 2013-05-29        & 2                \\\\\n",
       "\t Jason Figge       & M                 & 100m Dash         & 2014-07-23        & 2                \\\\\n",
       "\t ... & ... & ... & ... & ...\\\\\n",
       "\t Martin Warters     & M                  & 100m Dash          & 2014-07-23         & 2                 \\\\\n",
       "\t Mary Szymkowski    & F                  & 200m               & 2013-07-10         & 2                 \\\\\n",
       "\t Matthew Swepson    & M                  & 200m               & 2009-07-15         & 2                 \\\\\n",
       "\t Michelle Hickerson & F                  & 100m Dash          & 2014-07-23         & 2                 \\\\\n",
       "\t Mike Nobles        & M                  & 800 Meter Run      & 2016-06-29         & 2                 \\\\\n",
       "\t Nan Lujan          & F                  & 100m Dash          & 2014-07-23         & 2                 \\\\\n",
       "\t Owen Astrachan     & M                  & 800m               & 2013-05-29         & 2                 \\\\\n",
       "\t Ray Dooley         & M                  & 100m Dash          & 2014-07-23         & 2                 \\\\\n",
       "\t Ray Dooley         & M                  & 200m               & 2009-07-15         & 2                 \\\\\n",
       "\t Ray Dooley         & M                  & 800 Meter Run      & 2016-06-29         & 2                 \\\\\n",
       "\t Ray Dooley         & M                  & 800m               & 2013-05-29         & 2                 \\\\\n",
       "\t Richard Kohrman    & M                  & 800m               & 2013-05-29         & 2                 \\\\\n",
       "\t Rob McCauley       & M                  & 800m               & 2013-05-29         & 2                 \\\\\n",
       "\t Roxanne Springer   & F                  & 100m Dash          & 2014-07-23         & 2                 \\\\\n",
       "\t Roxanne Springer   & F                  & 800m               & 2013-05-29         & 2                 \\\\\n",
       "\t Sarah Roberts      & F                  & 800m               & 2013-05-29         & 2                 \\\\\n",
       "\t Stanton Sarvis     & M                  & 200m               & 2013-07-10         & 2                 \\\\\n",
       "\t Sydney Barker      & F                  & 100m Dash          & 2014-07-23         & 2                 \\\\\n",
       "\t Sydney Barker      & F                  & 200m               & 2013-07-10         & 2                 \\\\\n",
       "\t Tim O'Brien        & M                  & 800 Meter Run      & 2016-06-29         & 2                 \\\\\n",
       "\t Tom Hoerger        & M                  & 100m Dash          & 2014-07-23         & 2                 \\\\\n",
       "\t Tom Kirby          & M                  & 200m               & 2013-07-10         & 2                 \\\\\n",
       "\t Tom Kirby          & M                  & 800 Meter Run      & 2016-06-29         & 2                 \\\\\n",
       "\t Tom Kirby          & M                  & 800m               & 2013-05-29         & 2                 \\\\\n",
       "\t Tyle Stelzig       & M                  & 800m               & 2013-05-29         & 2                 \\\\\n",
       "\t Victoria Swepson   & F                  & 200m               & 2009-07-15         & 2                 \\\\\n",
       "\t W. Patrick Gale    & M                  & 800 Meter Run      & 2016-06-29         & 2                 \\\\\n",
       "\t William Schmitz    & M                  & 100m Dash          & 2014-07-23         & 2                 \\\\\n",
       "\t William Schmitz    & M                  & 800 Meter Run      & 2016-06-29         & 2                 \\\\\n",
       "\t William Schmitz    & M                  & 800m               & 2013-05-29         & 2                 \\\\\n",
       "\\end{tabular}\n"
      ],
      "text/markdown": [
       "\n",
       "Name | Sex | Event | Date_Meet | ct | \n",
       "|---|---|---|---|---|---|---|---|---|---|---|---|---|---|---|---|---|---|---|---|---|---|---|---|---|---|---|---|---|---|---|---|---|---|---|---|---|---|---|---|---|---|---|---|---|---|---|---|---|---|---|---|---|---|---|---|---|---|---|---|---|\n",
       "| Aimee Bazin       | F                 | 100m Dash         | 2014-07-23        | 2                 | \n",
       "| Aimee Bazin       | F                 | 200m              | 2013-07-10        | 2                 | \n",
       "| Alex Andre        | M                 | 200m              | 2013-07-10        | 2                 | \n",
       "| Alex Emmons       | M                 | Mile Run          | 2016-07-13        | 2                 | \n",
       "| Alex Taylor       | M                 | 200m              | 2009-07-15        | 2                 | \n",
       "| Aline Lloyd       | F                 | 200m              | 2013-07-10        | 2                 | \n",
       "| Barbara Hindenach | F                 | 100m Dash         | 2014-07-23        | 2                 | \n",
       "| Barbara Hindenach | F                 | 200m              | 2009-07-15        | 2                 | \n",
       "| Barbara Hindenach | F                 | 200m              | 2013-07-10        | 2                 | \n",
       "| Barbara Hindenach | F                 | 800 Meter Run     | 2016-06-29        | 2                 | \n",
       "| Barbara Hindenach | F                 | 800m              | 2013-05-29        | 2                 | \n",
       "| Ben Barker        | M                 | 100m Dash         | 2014-07-23        | 2                 | \n",
       "| Bill Hansley      | M                 | 200m              | 2009-07-15        | 2                 | \n",
       "| Brendan Murray    | M                 | 5K Run            | 2018-05-30        | 2                 | \n",
       "| Brian Tajlili     | M                 | 800 Meter Run     | 2016-06-29        | 2                 | \n",
       "| Brianna Honea     | F                 | 100m Dash         | 2014-07-23        | 2                 | \n",
       "| Carolyn Huettel   | F                 | 800m              | 2013-05-29        | 2                 | \n",
       "| Chris Gould       | M                 | 200m              | 2009-07-15        | 2                 | \n",
       "| Chris Gould       | M                 | 800 Meter Run     | 2016-06-29        | 2                 | \n",
       "| Chris Gould       | M                 | 800m              | 2013-05-29        | 2                 | \n",
       "| Dan Woodlief      | M                 | 800m              | 2013-05-29        | 2                 | \n",
       "| Ed Davis          | M                 | 800 Meter Run     | 2016-06-29        | 2                 | \n",
       "| Ed Davis          | M                 | 800m              | 2013-05-29        | 2                 | \n",
       "| Edwin Harris      | M                 | 800 Meter Run     | 2016-06-29        | 2                 | \n",
       "| Fabrienne Swepson | F                 | 200m              | 2009-07-15        | 2                 | \n",
       "| Gordon Keeler     | M                 | 800 Meter Run     | 2016-06-29        | 2                 | \n",
       "| Harold Hill       | M                 | 200m              | 2009-07-15        | 2                 | \n",
       "| Jacob Andre       | M                 | 200m              | 2013-07-10        | 2                 | \n",
       "| Jacob Sternfeld   | M                 | 800m              | 2013-05-29        | 2                 | \n",
       "| Jason Figge       | M                 | 100m Dash         | 2014-07-23        | 2                 | \n",
       "| ... | ... | ... | ... | ... | \n",
       "| Martin Warters     | M                  | 100m Dash          | 2014-07-23         | 2                  | \n",
       "| Mary Szymkowski    | F                  | 200m               | 2013-07-10         | 2                  | \n",
       "| Matthew Swepson    | M                  | 200m               | 2009-07-15         | 2                  | \n",
       "| Michelle Hickerson | F                  | 100m Dash          | 2014-07-23         | 2                  | \n",
       "| Mike Nobles        | M                  | 800 Meter Run      | 2016-06-29         | 2                  | \n",
       "| Nan Lujan          | F                  | 100m Dash          | 2014-07-23         | 2                  | \n",
       "| Owen Astrachan     | M                  | 800m               | 2013-05-29         | 2                  | \n",
       "| Ray Dooley         | M                  | 100m Dash          | 2014-07-23         | 2                  | \n",
       "| Ray Dooley         | M                  | 200m               | 2009-07-15         | 2                  | \n",
       "| Ray Dooley         | M                  | 800 Meter Run      | 2016-06-29         | 2                  | \n",
       "| Ray Dooley         | M                  | 800m               | 2013-05-29         | 2                  | \n",
       "| Richard Kohrman    | M                  | 800m               | 2013-05-29         | 2                  | \n",
       "| Rob McCauley       | M                  | 800m               | 2013-05-29         | 2                  | \n",
       "| Roxanne Springer   | F                  | 100m Dash          | 2014-07-23         | 2                  | \n",
       "| Roxanne Springer   | F                  | 800m               | 2013-05-29         | 2                  | \n",
       "| Sarah Roberts      | F                  | 800m               | 2013-05-29         | 2                  | \n",
       "| Stanton Sarvis     | M                  | 200m               | 2013-07-10         | 2                  | \n",
       "| Sydney Barker      | F                  | 100m Dash          | 2014-07-23         | 2                  | \n",
       "| Sydney Barker      | F                  | 200m               | 2013-07-10         | 2                  | \n",
       "| Tim O'Brien        | M                  | 800 Meter Run      | 2016-06-29         | 2                  | \n",
       "| Tom Hoerger        | M                  | 100m Dash          | 2014-07-23         | 2                  | \n",
       "| Tom Kirby          | M                  | 200m               | 2013-07-10         | 2                  | \n",
       "| Tom Kirby          | M                  | 800 Meter Run      | 2016-06-29         | 2                  | \n",
       "| Tom Kirby          | M                  | 800m               | 2013-05-29         | 2                  | \n",
       "| Tyle Stelzig       | M                  | 800m               | 2013-05-29         | 2                  | \n",
       "| Victoria Swepson   | F                  | 200m               | 2009-07-15         | 2                  | \n",
       "| W. Patrick Gale    | M                  | 800 Meter Run      | 2016-06-29         | 2                  | \n",
       "| William Schmitz    | M                  | 100m Dash          | 2014-07-23         | 2                  | \n",
       "| William Schmitz    | M                  | 800 Meter Run      | 2016-06-29         | 2                  | \n",
       "| William Schmitz    | M                  | 800m               | 2013-05-29         | 2                  | \n",
       "\n",
       "\n"
      ],
      "text/plain": [
       "    Name               Sex Event         Date_Meet  ct \n",
       "1   Aimee Bazin        F   100m Dash     2014-07-23 2  \n",
       "2   Aimee Bazin        F   200m          2013-07-10 2  \n",
       "3   Alex Andre         M   200m          2013-07-10 2  \n",
       "4   Alex Emmons        M   Mile Run      2016-07-13 2  \n",
       "5   Alex Taylor        M   200m          2009-07-15 2  \n",
       "6   Aline Lloyd        F   200m          2013-07-10 2  \n",
       "7   Barbara Hindenach  F   100m Dash     2014-07-23 2  \n",
       "8   Barbara Hindenach  F   200m          2009-07-15 2  \n",
       "9   Barbara Hindenach  F   200m          2013-07-10 2  \n",
       "10  Barbara Hindenach  F   800 Meter Run 2016-06-29 2  \n",
       "11  Barbara Hindenach  F   800m          2013-05-29 2  \n",
       "12  Ben Barker         M   100m Dash     2014-07-23 2  \n",
       "13  Bill Hansley       M   200m          2009-07-15 2  \n",
       "14  Brendan Murray     M   5K Run        2018-05-30 2  \n",
       "15  Brian Tajlili      M   800 Meter Run 2016-06-29 2  \n",
       "16  Brianna Honea      F   100m Dash     2014-07-23 2  \n",
       "17  Carolyn Huettel    F   800m          2013-05-29 2  \n",
       "18  Chris Gould        M   200m          2009-07-15 2  \n",
       "19  Chris Gould        M   800 Meter Run 2016-06-29 2  \n",
       "20  Chris Gould        M   800m          2013-05-29 2  \n",
       "21  Dan Woodlief       M   800m          2013-05-29 2  \n",
       "22  Ed Davis           M   800 Meter Run 2016-06-29 2  \n",
       "23  Ed Davis           M   800m          2013-05-29 2  \n",
       "24  Edwin Harris       M   800 Meter Run 2016-06-29 2  \n",
       "25  Fabrienne Swepson  F   200m          2009-07-15 2  \n",
       "26  Gordon Keeler      M   800 Meter Run 2016-06-29 2  \n",
       "27  Harold Hill        M   200m          2009-07-15 2  \n",
       "28  Jacob Andre        M   200m          2013-07-10 2  \n",
       "29  Jacob Sternfeld    M   800m          2013-05-29 2  \n",
       "30  Jason Figge        M   100m Dash     2014-07-23 2  \n",
       "... ...                ... ...           ...        ...\n",
       "50  Martin Warters     M   100m Dash     2014-07-23 2  \n",
       "51  Mary Szymkowski    F   200m          2013-07-10 2  \n",
       "52  Matthew Swepson    M   200m          2009-07-15 2  \n",
       "53  Michelle Hickerson F   100m Dash     2014-07-23 2  \n",
       "54  Mike Nobles        M   800 Meter Run 2016-06-29 2  \n",
       "55  Nan Lujan          F   100m Dash     2014-07-23 2  \n",
       "56  Owen Astrachan     M   800m          2013-05-29 2  \n",
       "57  Ray Dooley         M   100m Dash     2014-07-23 2  \n",
       "58  Ray Dooley         M   200m          2009-07-15 2  \n",
       "59  Ray Dooley         M   800 Meter Run 2016-06-29 2  \n",
       "60  Ray Dooley         M   800m          2013-05-29 2  \n",
       "61  Richard Kohrman    M   800m          2013-05-29 2  \n",
       "62  Rob McCauley       M   800m          2013-05-29 2  \n",
       "63  Roxanne Springer   F   100m Dash     2014-07-23 2  \n",
       "64  Roxanne Springer   F   800m          2013-05-29 2  \n",
       "65  Sarah Roberts      F   800m          2013-05-29 2  \n",
       "66  Stanton Sarvis     M   200m          2013-07-10 2  \n",
       "67  Sydney Barker      F   100m Dash     2014-07-23 2  \n",
       "68  Sydney Barker      F   200m          2013-07-10 2  \n",
       "69  Tim O'Brien        M   800 Meter Run 2016-06-29 2  \n",
       "70  Tom Hoerger        M   100m Dash     2014-07-23 2  \n",
       "71  Tom Kirby          M   200m          2013-07-10 2  \n",
       "72  Tom Kirby          M   800 Meter Run 2016-06-29 2  \n",
       "73  Tom Kirby          M   800m          2013-05-29 2  \n",
       "74  Tyle Stelzig       M   800m          2013-05-29 2  \n",
       "75  Victoria Swepson   F   200m          2009-07-15 2  \n",
       "76  W. Patrick Gale    M   800 Meter Run 2016-06-29 2  \n",
       "77  William Schmitz    M   100m Dash     2014-07-23 2  \n",
       "78  William Schmitz    M   800 Meter Run 2016-06-29 2  \n",
       "79  William Schmitz    M   800m          2013-05-29 2  "
      ]
     },
     "metadata": {},
     "output_type": "display_data"
    }
   ],
   "source": [
    "track_res %>% group_by(Name, Sex, Event, Date_Meet) %>% \n",
    "         summarise(ct = n()) %>% dplyr::filter(ct > 1) %>% ungroup()"
   ]
  },
  {
   "cell_type": "code",
   "execution_count": 58,
   "metadata": {},
   "outputs": [
    {
     "data": {
      "text/html": [
       "<table>\n",
       "<thead><tr><th scope=col>Name</th><th scope=col>Sex</th><th scope=col>Age</th><th scope=col>Time</th><th scope=col>ct_evt</th><th scope=col>Event</th><th scope=col>mins</th><th scope=col>secs</th><th scope=col>track_time</th><th scope=col>temp_dist</th><th scope=col>dist_m</th><th scope=col>Place</th><th scope=col>Max_Hamlyn_pts</th><th scope=col>Date_Meet</th><th scope=col>agegrp</th></tr></thead>\n",
       "<tbody>\n",
       "\t<tr><td>Aimee Bazin</td><td>F          </td><td>31         </td><td>18.1       </td><td>2000       </td><td>100m Dash  </td><td> 0         </td><td>18.1       </td><td> 18.1      </td><td>100m       </td><td>NA         </td><td> 6         </td><td>0          </td><td>2014-07-23 </td><td>Age 30 - 34</td></tr>\n",
       "\t<tr><td>Aimee Bazin</td><td>F          </td><td>31         </td><td>11:14      </td><td>2000       </td><td>100m Dash  </td><td>11         </td><td>14         </td><td>674.0      </td><td>100m       </td><td>NA         </td><td>21         </td><td>0          </td><td>2014-07-23 </td><td>Age 30 - 34</td></tr>\n",
       "</tbody>\n",
       "</table>\n"
      ],
      "text/latex": [
       "\\begin{tabular}{r|lllllllllllllll}\n",
       " Name & Sex & Age & Time & ct\\_evt & Event & mins & secs & track\\_time & temp\\_dist & dist\\_m & Place & Max\\_Hamlyn\\_pts & Date\\_Meet & agegrp\\\\\n",
       "\\hline\n",
       "\t Aimee Bazin & F           & 31          & 18.1        & 2000        & 100m Dash   &  0          & 18.1        &  18.1       & 100m        & NA          &  6          & 0           & 2014-07-23  & Age 30 - 34\\\\\n",
       "\t Aimee Bazin & F           & 31          & 11:14       & 2000        & 100m Dash   & 11          & 14          & 674.0       & 100m        & NA          & 21          & 0           & 2014-07-23  & Age 30 - 34\\\\\n",
       "\\end{tabular}\n"
      ],
      "text/markdown": [
       "\n",
       "Name | Sex | Age | Time | ct_evt | Event | mins | secs | track_time | temp_dist | dist_m | Place | Max_Hamlyn_pts | Date_Meet | agegrp | \n",
       "|---|---|\n",
       "| Aimee Bazin | F           | 31          | 18.1        | 2000        | 100m Dash   |  0          | 18.1        |  18.1       | 100m        | NA          |  6          | 0           | 2014-07-23  | Age 30 - 34 | \n",
       "| Aimee Bazin | F           | 31          | 11:14       | 2000        | 100m Dash   | 11          | 14          | 674.0       | 100m        | NA          | 21          | 0           | 2014-07-23  | Age 30 - 34 | \n",
       "\n",
       "\n"
      ],
      "text/plain": [
       "  Name        Sex Age Time  ct_evt Event     mins secs track_time temp_dist\n",
       "1 Aimee Bazin F   31  18.1  2000   100m Dash  0   18.1  18.1      100m     \n",
       "2 Aimee Bazin F   31  11:14 2000   100m Dash 11   14   674.0      100m     \n",
       "  dist_m Place Max_Hamlyn_pts Date_Meet  agegrp     \n",
       "1 NA      6    0              2014-07-23 Age 30 - 34\n",
       "2 NA     21    0              2014-07-23 Age 30 - 34"
      ]
     },
     "metadata": {},
     "output_type": "display_data"
    }
   ],
   "source": [
    "track_res %>% dplyr::filter(str_trim(Name) == 'Aimee Bazin' & \n",
    "                            str_trim(toupper(Event)) == '100M DASH' &\n",
    "                            Date_Meet == '2014-07-23')"
   ]
  },
  {
   "cell_type": "code",
   "execution_count": 59,
   "metadata": {},
   "outputs": [],
   "source": [
    "# Use of :: means object on the left is a package\n",
    "png(paste0(pics_dir, \"dupe_name_no_strong_tag.PNG\"))\n"
   ]
  },
  {
   "cell_type": "code",
   "execution_count": 60,
   "metadata": {},
   "outputs": [
    {
     "data": {
      "text/html": [
       "<table>\n",
       "<thead><tr><th scope=col>Name</th><th scope=col>Sex</th><th scope=col>Event</th><th scope=col>Date_Meet</th><th scope=col>ct</th></tr></thead>\n",
       "<tbody>\n",
       "</tbody>\n",
       "</table>\n"
      ],
      "text/latex": [
       "\\begin{tabular}{r|lllll}\n",
       " Name & Sex & Event & Date\\_Meet & ct\\\\\n",
       "\\hline\n",
       "\\end{tabular}\n"
      ],
      "text/markdown": [
       "\n",
       "Name | Sex | Event | Date_Meet | ct | \n",
       "||\n",
       "\n",
       "\n"
      ],
      "text/plain": [
       "     Name Sex Event Date_Meet ct"
      ]
     },
     "metadata": {},
     "output_type": "display_data"
    }
   ],
   "source": [
    "# Select the fastest time whenever there are duplicates per name, event, date\n",
    "track_res <- track_res %>% \n",
    "               group_by(Name, Event, Date_Meet) %>%\n",
    "               slice(which.min(track_time)) %>% ungroup()\n",
    "track_res %>% group_by(Name, Sex, Event, Date_Meet) %>% \n",
    "         summarise(ct = n()) %>% dplyr::filter(ct > 1)"
   ]
  },
  {
   "cell_type": "code",
   "execution_count": 61,
   "metadata": {},
   "outputs": [
    {
     "data": {
      "text/html": [
       "<table>\n",
       "<thead><tr><th scope=col>Name</th><th scope=col>Sex</th><th scope=col>Age</th><th scope=col>Time</th><th scope=col>ct_evt</th><th scope=col>Event</th><th scope=col>mins</th><th scope=col>secs</th><th scope=col>track_time</th><th scope=col>temp_dist</th><th scope=col>dist_m</th><th scope=col>Place</th><th scope=col>Max_Hamlyn_pts</th><th scope=col>Date_Meet</th><th scope=col>agegrp</th></tr></thead>\n",
       "<tbody>\n",
       "\t<tr><td>Aimee Bazin</td><td>F          </td><td>31         </td><td>18.1       </td><td>2000       </td><td>100m Dash  </td><td>0          </td><td>18.1       </td><td>18.1       </td><td>100m       </td><td>NA         </td><td>6          </td><td>0          </td><td>2014-07-23 </td><td>Age 30 - 34</td></tr>\n",
       "</tbody>\n",
       "</table>\n"
      ],
      "text/latex": [
       "\\begin{tabular}{r|lllllllllllllll}\n",
       " Name & Sex & Age & Time & ct\\_evt & Event & mins & secs & track\\_time & temp\\_dist & dist\\_m & Place & Max\\_Hamlyn\\_pts & Date\\_Meet & agegrp\\\\\n",
       "\\hline\n",
       "\t Aimee Bazin & F           & 31          & 18.1        & 2000        & 100m Dash   & 0           & 18.1        & 18.1        & 100m        & NA          & 6           & 0           & 2014-07-23  & Age 30 - 34\\\\\n",
       "\\end{tabular}\n"
      ],
      "text/markdown": [
       "\n",
       "Name | Sex | Age | Time | ct_evt | Event | mins | secs | track_time | temp_dist | dist_m | Place | Max_Hamlyn_pts | Date_Meet | agegrp | \n",
       "|---|\n",
       "| Aimee Bazin | F           | 31          | 18.1        | 2000        | 100m Dash   | 0           | 18.1        | 18.1        | 100m        | NA          | 6           | 0           | 2014-07-23  | Age 30 - 34 | \n",
       "\n",
       "\n"
      ],
      "text/plain": [
       "  Name        Sex Age Time ct_evt Event     mins secs track_time temp_dist\n",
       "1 Aimee Bazin F   31  18.1 2000   100m Dash 0    18.1 18.1       100m     \n",
       "  dist_m Place Max_Hamlyn_pts Date_Meet  agegrp     \n",
       "1 NA     6     0              2014-07-23 Age 30 - 34"
      ]
     },
     "metadata": {},
     "output_type": "display_data"
    }
   ],
   "source": [
    "track_res %>% dplyr::filter(str_trim(Name) == 'Aimee Bazin' & \n",
    "                            str_trim(toupper(Event)) == '100M DASH' &\n",
    "                            Date_Meet == '2014-07-23')"
   ]
  },
  {
   "cell_type": "code",
   "execution_count": 62,
   "metadata": {},
   "outputs": [],
   "source": [
    "track_res <- track_res %>% dplyr::filter(!is.na(Age)) %>%\n",
    "    distinct(Name, Sex, Event, Date_Meet, .keep_all = TRUE)\n",
    "track_res <- track_res %>% dplyr::filter(!is.na(agegrp)) %>%\n",
    "              # Age-graded track tables start at age 4\n",
    "              dplyr::filter(Age > 4) "
   ]
  },
  {
   "cell_type": "code",
   "execution_count": 63,
   "metadata": {},
   "outputs": [],
   "source": [
    "m_ages_l <- length(unique(track_res %>% dplyr::filter(Sex=='M') %>% pull(Age)))\n",
    "f_ages_l <- length(unique(track_res %>% dplyr::filter(Sex=='F') %>% pull(Age)))\n",
    "m_ages <- unique(track_res %>% dplyr::filter(Sex=='M') %>% pull(Age))\n",
    "f_ages <- unique(track_res %>% dplyr::filter(Sex=='F') %>% pull(Age))\n",
    "dat_m1 <- data.frame()\n",
    "dat_f1 <- data.frame()\n",
    "\n",
    "for(m_age in 1:m_ages_l){\n",
    "    m_age_in   <- m_ages[m_age]\n",
    "    # Notice need sym instead of enquo and as.character because sym \n",
    "    # requires string\n",
    "    m_age_nam  <- sym(as.character(m_age_in))\n",
    "    WMA_Men_in <- WMA_Men %>% mutate(agefactor := !!m_age_nam) %>%\n",
    "                    select(agefactor, dist_m, Sex)\n",
    "      dat_m1_0 <- track_res %>% dplyr::filter(Age == m_age_in) %>%\n",
    "                     inner_join(., WMA_Men_in, by = c(\"Sex\", \"dist_m\")) %>%\n",
    "                     mutate(age_grade_track_time = track_time * agefactor) %>%\n",
    "                     select(Name, Sex, Date_Meet, dist_m, age_grade_track_time, agefactor)\n",
    "      dat_m1   <- bind_rows(dat_m1, dat_m1_0)\n",
    "}\n",
    "\n",
    "for(f_age in 1:f_ages_l){\n",
    "    f_age_in   <- f_ages[f_age]\n",
    "    # Notice need sym instead of enquo and as.character because sym \n",
    "    # requires string\n",
    "    f_age_nam  <- sym(as.character(f_age_in))\n",
    "    WMA_Women_in <- WMA_Women %>% mutate(agefactor := !!f_age_nam) %>%\n",
    "                     select(agefactor, dist_m, Sex)\n",
    "      dat_f1_0 <- track_res %>% dplyr::filter(Age == f_age_in) %>%\n",
    "                     inner_join(., WMA_Women_in, by = c(\"Sex\", \"dist_m\")) %>%\n",
    "                     mutate(age_grade_track_time = track_time * agefactor) %>%\n",
    "                     select(Name, Sex, Date_Meet, dist_m, age_grade_track_time, agefactor)\n",
    "      dat_f1   <- bind_rows(dat_f1, dat_f1_0)\n",
    "}\n",
    "\n",
    "dat_all <- bind_rows(dat_m1, dat_f1)\n",
    "track_res_all <- left_join(track_res, dat_all, by = c(\"Name\", \"Sex\", \"Date_Meet\", \"dist_m\"))\n",
    "\n",
    "track_res_all <- track_res_all %>% dplyr::filter(!is.na(agegrp)) %>%\n",
    "                    arrange(track_time) \n",
    "\n",
    "track_res_age <- track_res_all %>%\n",
    "    group_by(dist_m, agegrp) %>%\n",
    "    summarise(median_age = median(track_time)) %>%\n",
    "    ungroup()\n",
    "\n",
    "track_res_ind <- track_res_all %>%\n",
    "    group_by(dist_m, Name) %>%\n",
    "    summarise(median_ind = median(track_time)) %>%\n",
    "    ungroup()\n",
    "\n",
    "track_res_age_age <- track_res_all %>%\n",
    "    group_by(dist_m, agegrp) %>%\n",
    "    summarise(median_age = median(age_grade_track_time)) %>%\n",
    "    ungroup()\n",
    "\n",
    "track_res_ind_age <- track_res_all %>%\n",
    "    group_by(dist_m, Name) %>%\n",
    "    summarise(median_ind = median(age_grade_track_time)) %>%\n",
    "    ungroup()"
   ]
  },
  {
   "cell_type": "code",
   "execution_count": 64,
   "metadata": {},
   "outputs": [
    {
     "data": {
      "text/html": [
       "<table>\n",
       "<thead><tr><th scope=col>dist_m</th><th scope=col>n</th><th scope=col>percent</th><th scope=col>valid_percent</th></tr></thead>\n",
       "<tbody>\n",
       "\t<tr><td>  NA      </td><td>13        </td><td>0.325     </td><td>        NA</td></tr>\n",
       "\t<tr><td>   3      </td><td>12        </td><td>0.300     </td><td>0.44444444</td></tr>\n",
       "\t<tr><td>   5      </td><td>10        </td><td>0.250     </td><td>0.37037037</td></tr>\n",
       "\t<tr><td>1609      </td><td> 3        </td><td>0.075     </td><td>0.11111111</td></tr>\n",
       "\t<tr><td> 200      </td><td> 1        </td><td>0.025     </td><td>0.03703704</td></tr>\n",
       "\t<tr><td> 800      </td><td> 1        </td><td>0.025     </td><td>0.03703704</td></tr>\n",
       "</tbody>\n",
       "</table>\n"
      ],
      "text/latex": [
       "\\begin{tabular}{r|llll}\n",
       " dist\\_m & n & percent & valid\\_percent\\\\\n",
       "\\hline\n",
       "\t   NA       & 13         & 0.325      &         NA\\\\\n",
       "\t    3       & 12         & 0.300      & 0.44444444\\\\\n",
       "\t    5       & 10         & 0.250      & 0.37037037\\\\\n",
       "\t 1609       &  3         & 0.075      & 0.11111111\\\\\n",
       "\t  200       &  1         & 0.025      & 0.03703704\\\\\n",
       "\t  800       &  1         & 0.025      & 0.03703704\\\\\n",
       "\\end{tabular}\n"
      ],
      "text/markdown": [
       "\n",
       "dist_m | n | percent | valid_percent | \n",
       "|---|---|---|---|---|---|\n",
       "|   NA       | 13         | 0.325      |         NA | \n",
       "|    3       | 12         | 0.300      | 0.44444444 | \n",
       "|    5       | 10         | 0.250      | 0.37037037 | \n",
       "| 1609       |  3         | 0.075      | 0.11111111 | \n",
       "|  200       |  1         | 0.025      | 0.03703704 | \n",
       "|  800       |  1         | 0.025      | 0.03703704 | \n",
       "\n",
       "\n"
      ],
      "text/plain": [
       "  dist_m n  percent valid_percent\n",
       "1   NA   13 0.325           NA   \n",
       "2    3   12 0.300   0.44444444   \n",
       "3    5   10 0.250   0.37037037   \n",
       "4 1609    3 0.075   0.11111111   \n",
       "5  200    1 0.025   0.03703704   \n",
       "6  800    1 0.025   0.03703704   "
      ]
     },
     "metadata": {},
     "output_type": "display_data"
    }
   ],
   "source": [
    "track_res_age_age %>% dplyr::filter(is.na(median_age)) %>% janitor::tabyl(dist_m) %>% arrange(desc(n))"
   ]
  },
  {
   "cell_type": "code",
   "execution_count": 82,
   "metadata": {},
   "outputs": [],
   "source": [
    "plotfunc <- function(dist=100, subtitl_txt=\"\", gender=c(\"M\", \"F\"), sz = 16, yr = 2018){\n",
    "    \n",
    "    track_res_all_top3age <-\n",
    "        track_res_all %>%\n",
    "        dplyr::filter(Sex %in% gender & dist_m == dist) %>%\n",
    "        dplyr::filter(year(Date_Meet)==yr) %>%\n",
    "        group_by(Name) %>%\n",
    "        slice(which.min(track_time)) %>%\n",
    "        group_by(agegrp) %>%\n",
    "        top_n(-3, track_time) %>%\n",
    "        mutate(Name = paste0(Name, \" (\", Age, \")\")) %>%\n",
    "        ungroup() %>%\n",
    "        arrange(track_time)\n",
    "        \n",
    "    ggplot(track_res_all_top3age, aes(x = reorder(Name, desc(track_time)), y = track_time)) +\n",
    "               geom_point(stat='identity', aes(col=agegrp), size = 6) +\n",
    "               scale_color_viridis_d(name='Age Group') +\n",
    "               xlab(\"Runner's Name (Age)\") +\n",
    "               ylab(\"Run time (seconds)\") +\n",
    "               ggtitle(paste0(\"Carolina Godiva Track Club Summer Track Series (\", yr, \")\"),\n",
    "                       subtitle = subtitl_txt) +\n",
    "        theme(plot.title = element_text(hjust = 0.5, color = '#EEEEEE',\n",
    "                                        size = sz),\n",
    "              plot.subtitle = element_text(hjust = 0.5, color = '#EEEEEE',\n",
    "                                           size = sz * 20/28),\n",
    "              text = element_text(size = 14, color = '#EEEEEE'),\n",
    "              axis.text = element_text(size = 10, color = '#EEEEEE'),\n",
    "              legend.text = element_text(size = 12, color = '#EEEEEE'),\n",
    "              legend.background = element_rect(fill = '#333333'),\n",
    "              panel.background = element_rect(fill = '#333333'),\n",
    "              strip.background = element_rect(fill = '#333333'),\n",
    "              plot.background = element_rect(fill = '#333333')) +\n",
    "               coord_flip()\n",
    "}"
   ]
  },
  {
   "cell_type": "code",
   "execution_count": 72,
   "metadata": {},
   "outputs": [],
   "source": [
    "plotfunc_grade <- function(dist=100, subtitl_txt=\"\", gender=c(\"M\", \"F\"), sz = 16, yr = 2018){\n",
    "    \n",
    "    track_res_all_top3age_grade <-\n",
    "        track_res_all %>%\n",
    "        dplyr::filter(Sex %in% gender & dist_m == dist) %>%\n",
    "        dplyr::filter(year(Date_Meet)==yr) %>%\n",
    "        group_by(Name) %>%\n",
    "        slice(which.min(track_time)) %>%\n",
    "        group_by(agegrp) %>%\n",
    "        top_n(-3, age_grade_track_time) %>%\n",
    "        mutate(Name = paste0(Name, \" (\", Age, \")\")) %>%\n",
    "        ungroup() %>%\n",
    "        arrange(age_grade_track_time)\n",
    "    \n",
    "    ggplot(track_res_all_top3age_grade, aes(x = reorder(Name, desc(age_grade_track_time)), y = age_grade_track_time)) +\n",
    "        geom_point(stat='identity', aes(col=agegrp), size = 6) +\n",
    "        scale_color_viridis_d(name='Age Group') +\n",
    "        xlab(\"Runner's Name (Age)\") +\n",
    "        ylab(\"Age-Graded run time (seconds)\") +\n",
    "        ggtitle(paste0(\"Carolina Godiva Track Club Summer Track Series (\", yr, \")\"),\n",
    "                subtitle = subtitl_txt) +\n",
    "        theme(plot.title = element_text(hjust = 0.5, color = '#EEEEEE',\n",
    "                                        size = sz),\n",
    "              plot.subtitle = element_text(hjust = 0.5, color = '#EEEEEE',\n",
    "                                           size = sz * 20/28),\n",
    "              text = element_text(size = 14, color = '#EEEEEE'),\n",
    "              axis.text = element_text(size = 10, color = '#EEEEEE'),\n",
    "              legend.text = element_text(size = 12, color = '#EEEEEE'),\n",
    "              legend.background = element_rect(fill = '#333333'),\n",
    "              panel.background = element_rect(fill = '#333333'),\n",
    "              strip.background = element_rect(fill = '#333333'),\n",
    "              plot.background = element_rect(fill = '#333333')) +\n",
    "        coord_flip()\n",
    "}"
   ]
  },
  {
   "cell_type": "code",
   "execution_count": 83,
   "metadata": {},
   "outputs": [
    {
     "data": {},
     "metadata": {},
     "output_type": "display_data"
    },
    {
     "data": {
      "image/png": "[encoded data removed]",
      "text/plain": [
       "plot without title"
      ]
     },
     "metadata": {},
     "output_type": "display_data"
    }
   ],
   "source": [
    "plotfunc(dist=100, \"100 Meter: dot plot [top 3 per age group]\", c(\"M\", \"F\"), yr = 2018)"
   ]
  },
  {
   "cell_type": "code",
   "execution_count": 85,
   "metadata": {},
   "outputs": [
    {
     "data": {},
     "metadata": {},
     "output_type": "display_data"
    },
    {
     "data": {
      "image/png": "[encoded data removed]",
      "text/plain": [
       "plot without title"
      ]
     },
     "metadata": {},
     "output_type": "display_data"
    }
   ],
   "source": [
    "plotfunc(dist=100, \"100 Meter: dot plot [top 3 Males per age group]\", c(\"M\"), yr = 2018)"
   ]
  },
  {
   "cell_type": "code",
   "execution_count": 86,
   "metadata": {},
   "outputs": [
    {
     "data": {},
     "metadata": {},
     "output_type": "display_data"
    },
    {
     "data": {
      "image/png": "[encoded data removed]",
      "text/plain": [
       "plot without title"
      ]
     },
     "metadata": {},
     "output_type": "display_data"
    }
   ],
   "source": [
    "plotfunc(dist=100, \"100 Meter: dot plot [top 3 Females per age group]\", c(\"F\"), yr = 2018)"
   ]
  },
  {
   "cell_type": "code",
   "execution_count": 87,
   "metadata": {},
   "outputs": [
    {
     "ename": "ERROR",
     "evalue": "Error in parse(text = x, srcfile = src): <text>:1:1: unexpected input\n1: %R X=c(1,4,5,7); sd(X); mean(X)\n    ^\n",
     "output_type": "error",
     "traceback": [
      "Error in parse(text = x, srcfile = src): <text>:1:1: unexpected input\n1: %R X=c(1,4,5,7); sd(X); mean(X)\n    ^\nTraceback:\n"
     ]
    }
   ],
   "source": []
  },
  {
   "cell_type": "code",
   "execution_count": null,
   "metadata": {},
   "outputs": [],
   "source": []
  }
 ],
 "metadata": {
  "kernelspec": {
   "display_name": "R",
   "language": "R",
   "name": "ir"
  },
  "language_info": {
   "codemirror_mode": "r",
   "file_extension": ".r",
   "mimetype": "text/x-r-source",
   "name": "R",
   "pygments_lexer": "r",
   "version": "3.5.1"
  }
 },
 "nbformat": 4,
 "nbformat_minor": 2
}
